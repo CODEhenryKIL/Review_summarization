{
 "cells": [
  {
   "cell_type": "code",
   "execution_count": 3,
   "metadata": {},
   "outputs": [],
   "source": [
    "import os\n",
    "from openai import OpenAI\n",
    "\n",
    "OPENAI_API_KEY = os.environ['OPENAI_API_KEY']\n",
    "\n",
    "client = OpenAI(api_key=OPENAI_API_KEY)\n"
   ]
  },
  {
   "cell_type": "code",
   "execution_count": null,
   "metadata": {},
   "outputs": [
    {
     "name": "stdout",
     "output_type": "stream",
     "text": [
      "Hello! How can I assist you today?\n"
     ]
    }
   ],
   "source": [
    "compile = client.chat.completions.create(\n",
    "    model=\"gpt-3.5-turbo\",\n",
    "    messages=[{\"role\": \"user\", \"content\": \"Hi\"},],\n",
    "    temperature=0.0\n",
    ")\n",
    "print(compile.choices[0].message.content)"
   ]
  },
  {
   "cell_type": "markdown",
   "metadata": {},
   "source": [
    "### 데이터 전처리 코드"
   ]
  },
  {
   "cell_type": "markdown",
   "metadata": {},
   "source": [
    "리뷰 JSON 파일 로드"
   ]
  },
  {
   "cell_type": "code",
   "execution_count": 1,
   "metadata": {},
   "outputs": [
    {
     "data": {
      "text/plain": [
       "[{'review': '너무좋습니다 감사합니다', 'stars': 5, 'date': '2분 전'},\n",
       " {'review': '가족들과 좋은시간 보내고 왔습니다.\\n부대시설 좋고 수영장도 좋습니다.\\n앞으로도 종종 이용할 것 같습니다!\\n\\n날씨 좋을 때 한번 더 방문할께요!',\n",
       "  'stars': 5,\n",
       "  'date': '3시간 전'},\n",
       " {'review': '청결하고 좋았습니다.', 'stars': 5, 'date': '15시간 전'}]"
      ]
     },
     "execution_count": 1,
     "metadata": {},
     "output_type": "execute_result"
    }
   ],
   "source": [
    "import json\n",
    "\n",
    "with open('./res/reviews.json', 'r') as f:\n",
    "    review_list = json.load(f)\n",
    "review_list[:3]"
   ]
  },
  {
   "cell_type": "markdown",
   "metadata": {},
   "source": [
    "좋은 평점 및 나쁜 평점 정의\n",
    "- 좋은 평점 = 별 5개\n",
    "- 나쁜 평점 = 별 4개 이하"
   ]
  },
  {
   "cell_type": "code",
   "execution_count": 2,
   "metadata": {},
   "outputs": [
    {
     "data": {
      "text/plain": [
       "(189, 31)"
      ]
     },
     "execution_count": 2,
     "metadata": {},
     "output_type": "execute_result"
    }
   ],
   "source": [
    "good_cnt, bad_cnt = 0, 0\n",
    "for r in review_list:\n",
    "    if r['stars'] == 5:\n",
    "        good_cnt += 1\n",
    "    else:\n",
    "        bad_cnt += 1\n",
    "\n",
    "good_cnt, bad_cnt"
   ]
  },
  {
   "cell_type": "markdown",
   "metadata": {},
   "source": [
    "좋은 리뷰 및 나쁜 리뷰로 구분 후 저장"
   ]
  },
  {
   "cell_type": "code",
   "execution_count": 3,
   "metadata": {},
   "outputs": [
    {
     "data": {
      "text/plain": [
       "['[REVIEW_START]시설적이 부분에서는 딱히 흠잡을게 없었고 가격대가 좀 있지만 퀄리티가 괜찮은 편이라 so so인데 유독 스파 직원들이 불친절함 표정도 그렇고 말투나 톤이 뭔가 하기 싫다는 듯한 느낌을 받음[REVIEW_END]',\n",
       " '[REVIEW_START]직원친절도 최상.  숙소 정비나 시설이 깨끗하고 뒷산뷰도 조용하고 좋았습니다.[REVIEW_END]',\n",
       " '[REVIEW_START]깨끗하고 산책하기도 좋아요. 애들이랑 물놀이하기 좋구요. 재미있게 놀다왔습니다.[REVIEW_END]']"
      ]
     },
     "execution_count": 3,
     "metadata": {},
     "output_type": "execute_result"
    }
   ],
   "source": [
    "good_reviews, bad_reviews = [], []\n",
    "for r in review_list:\n",
    "    if r['stars'] == 5:\n",
    "        good_reviews.append('[REVIEW_START]' + r['review'] + '[REVIEW_END]')\n",
    "    else:\n",
    "        bad_reviews.append('[REVIEW_START]' + r['review'] + '[REVIEW_END]')\n",
    "\n",
    "bad_reviews[:3]"
   ]
  },
  {
   "cell_type": "code",
   "execution_count": 4,
   "metadata": {},
   "outputs": [],
   "source": [
    "good_reviews_text = '\\n'.join(good_reviews)\n",
    "bad_reviews_text = '\\n'.join(bad_reviews)"
   ]
  },
  {
   "cell_type": "markdown",
   "metadata": {},
   "source": [
    "전처리 함수 작성"
   ]
  },
  {
   "cell_type": "code",
   "execution_count": 5,
   "metadata": {},
   "outputs": [
    {
     "name": "stdout",
     "output_type": "stream",
     "text": [
      "[REVIEW_START]너무좋습니다 감사합니다[REVIEW_END]\n",
      "[REVIEW_START]가족들과 좋은시간 보내고 왔습니다.\n",
      "부대시설 좋고 수영장도 좋습니다.\n",
      "앞으로도 종종 \n",
      "[REVIEW_START]시설적이 부분에서는 딱히 흠잡을게 없었고 가격대가 좀 있지만 퀄리티가 괜찮은 편이라 so so인데 유독 스파 직원들이 불친절함 표정도 그렇고 말투나 톤이 \n"
     ]
    }
   ],
   "source": [
    "import datetime\n",
    "from dateutil import parser\n",
    "\n",
    "def preprocess_reviews(path = './res/reviews.json'):\n",
    "    with open(path, 'r', encoding='utf-8') as f:\n",
    "        review_list = json.load(f)\n",
    "\n",
    "    reviews_good, reviews_bad = [], []\n",
    "    current_date = datetime.datetime.now()\n",
    "    date_bound = current_date - datetime.timedelta(days=6*30)\n",
    "\n",
    "    for r in review_list:\n",
    "        reviews_date_str = r['date']\n",
    "        try:\n",
    "            reviews_date = parser.parse(reviews_date_str)\n",
    "        except(ValueError, TypeError):\n",
    "            reviews_date = current_date\n",
    "        \n",
    "        if reviews_date < date_bound:\n",
    "            continue\n",
    "\n",
    "        if r['stars'] == 5:\n",
    "            reviews_good.append('[REVIEW_START]' + r['review'] + '[REVIEW_END]')\n",
    "        else:\n",
    "            reviews_bad.append('[REVIEW_START]' + r['review'] + '[REVIEW_END]')\n",
    "    \n",
    "    reviews_good_text = '\\n'.join(reviews_good)\n",
    "    reviews_bad_text = '\\n'.join(reviews_bad)\n",
    "\n",
    "    return reviews_good_text, reviews_bad_text\n",
    "\n",
    "good, bad = preprocess_reviews()\n",
    "print(good[:100])\n",
    "print(bad[:100])"
   ]
  },
  {
   "cell_type": "markdown",
   "metadata": {},
   "source": [
    "### 평가 기준 설정\n",
    "평가 기준 설정\n",
    "- MT-Bench 논문 기반 Pairwise Comparision (=LLM 기반 평가)\n",
    "    - 비교하는 방식 vs. 점수 매기는 방식\n",
    "    - 점수라는게 애매 할 수 있음 (ex. 어느 정도의 요약 품질이 3점인가?)\n",
    "    - 경험상 점수보다는 비교가 상대적으로 더 정확한 편"
   ]
  },
  {
   "cell_type": "markdown",
   "metadata": {},
   "source": [
    "평가 스크립트 작성\n",
    "- MT-Bench 논문 Prompt에서 일부 단어만 수정 (ex. Korean summarise, accommodation)"
   ]
  },
  {
   "cell_type": "code",
   "execution_count": null,
   "metadata": {},
   "outputs": [],
   "source": [
    "def pairwise_eval(reviews, answer_a, answer_b):\n",
    "    eval_prompt = f\"\"\"[System]\n",
    "Please act as an impartial judge and evaluate the quality of the Korean summaries provided by two\n",
    "AI assistants to the set of user reviews on accommodations displayed below. You should choose the assistant that\n",
    "follows the user’s instructions and answers the user’s question better. Your evaluation\n",
    "should consider factors such as the helpfulness, relevance, accuracy, depth, creativity,\n",
    "and level of detail of their responses. Begin your evaluation by comparing the two\n",
    "responses and provide a short explanation. Avoid any position biases and ensure that the\n",
    "order in which the responses were presented does not influence your decision. Do not allow\n",
    "the length of the responses to influence your evaluation. Do not favor certain names of\n",
    "the assistants. Be as objective as possible. After providing your explanation, output your\n",
    "final verdict by strictly following this format: \"[[A]]\" if assistant A is better, \"[[B]]\"\n",
    "if assistant B is better, and \"[[C]]\" for a tie.\n",
    "[User Reviews]\n",
    "{reviews}\n",
    "[The Start of Assistant A’s Answer]\n",
    "{answer_a}\n",
    "[The End of Assistant A’s Answer]\n",
    "[The Start of Assistant B’s Answer]\n",
    "{answer_b}\n",
    "[The End of Assistant B’s Answer]\"\"\"\n",
    "    \n",
    "    completion = client.chat.completions.create(\n",
    "        model='gpt-4o-2024-05-13',\n",
    "        messages=[{'role': 'user', 'content': eval_prompt}],\n",
    "        temperature=0.0\n",
    "    )\n",
    "\n",
    "    return completion"
   ]
  }
 ],
 "metadata": {
  "kernelspec": {
   "display_name": ".venv",
   "language": "python",
   "name": "python3"
  },
  "language_info": {
   "codemirror_mode": {
    "name": "ipython",
    "version": 3
   },
   "file_extension": ".py",
   "mimetype": "text/x-python",
   "name": "python",
   "nbconvert_exporter": "python",
   "pygments_lexer": "ipython3",
   "version": "3.12.7"
  }
 },
 "nbformat": 4,
 "nbformat_minor": 2
}
