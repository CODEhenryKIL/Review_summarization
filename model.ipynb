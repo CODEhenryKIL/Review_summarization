{
 "cells": [
  {
   "cell_type": "code",
   "execution_count": 3,
   "metadata": {},
   "outputs": [],
   "source": [
    "import os\n",
    "from openai import OpenAI\n",
    "\n",
    "OPENAI_API_KEY = os.environ['OPENAI_API_KEY']\n",
    "\n",
    "client = OpenAI(api_key=OPENAI_API_KEY)\n"
   ]
  },
  {
   "cell_type": "code",
   "execution_count": null,
   "metadata": {},
   "outputs": [
    {
     "name": "stdout",
     "output_type": "stream",
     "text": [
      "Hello! How can I assist you today?\n"
     ]
    }
   ],
   "source": [
    "compile = client.chat.completions.create(\n",
    "    model=\"gpt-3.5-turbo\",\n",
    "    messages=[{\"role\": \"user\", \"content\": \"Hi\"},],\n",
    "    temperature=0.0\n",
    ")\n",
    "print(compile.choices[0].message.content)"
   ]
  },
  {
   "cell_type": "markdown",
   "metadata": {},
   "source": [
    "### 데이터 전처리 코드"
   ]
  },
  {
   "cell_type": "markdown",
   "metadata": {},
   "source": [
    "리뷰 JSON 파일 로드"
   ]
  },
  {
   "cell_type": "code",
   "execution_count": 1,
   "metadata": {},
   "outputs": [
    {
     "data": {
      "text/plain": [
       "[{'review': '너무좋습니다 감사합니다', 'stars': 5, 'date': '2분 전'},\n",
       " {'review': '가족들과 좋은시간 보내고 왔습니다.\\n부대시설 좋고 수영장도 좋습니다.\\n앞으로도 종종 이용할 것 같습니다!\\n\\n날씨 좋을 때 한번 더 방문할께요!',\n",
       "  'stars': 5,\n",
       "  'date': '3시간 전'},\n",
       " {'review': '청결하고 좋았습니다.', 'stars': 5, 'date': '15시간 전'}]"
      ]
     },
     "execution_count": 1,
     "metadata": {},
     "output_type": "execute_result"
    }
   ],
   "source": [
    "import json\n",
    "\n",
    "with open('./res/reviews.json', 'r') as f:\n",
    "    review_list = json.load(f)\n",
    "review_list[:3]"
   ]
  },
  {
   "cell_type": "markdown",
   "metadata": {},
   "source": [
    "좋은 평점 및 나쁜 평점 정의\n",
    "- 좋은 평점 = 별 5개\n",
    "- 나쁜 평점 = 별 4개 이하"
   ]
  },
  {
   "cell_type": "code",
   "execution_count": 2,
   "metadata": {},
   "outputs": [
    {
     "data": {
      "text/plain": [
       "(189, 31)"
      ]
     },
     "execution_count": 2,
     "metadata": {},
     "output_type": "execute_result"
    }
   ],
   "source": [
    "good_cnt, bad_cnt = 0, 0\n",
    "for r in review_list:\n",
    "    if r['stars'] == 5:\n",
    "        good_cnt += 1\n",
    "    else:\n",
    "        bad_cnt += 1\n",
    "\n",
    "good_cnt, bad_cnt"
   ]
  },
  {
   "cell_type": "markdown",
   "metadata": {},
   "source": [
    "좋은 리뷰 및 나쁜 리뷰로 구분 후 저장"
   ]
  },
  {
   "cell_type": "code",
   "execution_count": 3,
   "metadata": {},
   "outputs": [
    {
     "data": {
      "text/plain": [
       "['[REVIEW_START]시설적이 부분에서는 딱히 흠잡을게 없었고 가격대가 좀 있지만 퀄리티가 괜찮은 편이라 so so인데 유독 스파 직원들이 불친절함 표정도 그렇고 말투나 톤이 뭔가 하기 싫다는 듯한 느낌을 받음[REVIEW_END]',\n",
       " '[REVIEW_START]직원친절도 최상.  숙소 정비나 시설이 깨끗하고 뒷산뷰도 조용하고 좋았습니다.[REVIEW_END]',\n",
       " '[REVIEW_START]깨끗하고 산책하기도 좋아요. 애들이랑 물놀이하기 좋구요. 재미있게 놀다왔습니다.[REVIEW_END]']"
      ]
     },
     "execution_count": 3,
     "metadata": {},
     "output_type": "execute_result"
    }
   ],
   "source": [
    "good_reviews, bad_reviews = [], []\n",
    "for r in review_list:\n",
    "    if r['stars'] == 5:\n",
    "        good_reviews.append('[REVIEW_START]' + r['review'] + '[REVIEW_END]')\n",
    "    else:\n",
    "        bad_reviews.append('[REVIEW_START]' + r['review'] + '[REVIEW_END]')\n",
    "\n",
    "bad_reviews[:3]"
   ]
  },
  {
   "cell_type": "code",
   "execution_count": 4,
   "metadata": {},
   "outputs": [],
   "source": [
    "good_reviews_text = '\\n'.join(good_reviews)\n",
    "bad_reviews_text = '\\n'.join(bad_reviews)"
   ]
  },
  {
   "cell_type": "markdown",
   "metadata": {},
   "source": [
    "전처리 함수 작성"
   ]
  },
  {
   "cell_type": "code",
   "execution_count": null,
   "metadata": {},
   "outputs": [],
   "source": [
    "def preprocess_reviews(path = './res/reviews.json'):\n",
    "    "
   ]
  }
 ],
 "metadata": {
  "kernelspec": {
   "display_name": ".venv",
   "language": "python",
   "name": "python3"
  },
  "language_info": {
   "codemirror_mode": {
    "name": "ipython",
    "version": 3
   },
   "file_extension": ".py",
   "mimetype": "text/x-python",
   "name": "python",
   "nbconvert_exporter": "python",
   "pygments_lexer": "ipython3",
   "version": "3.12.7"
  }
 },
 "nbformat": 4,
 "nbformat_minor": 2
}
